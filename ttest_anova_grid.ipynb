{
 "cells": [
  {
   "cell_type": "markdown",
   "metadata": {},
   "source": [
    "                var1                 var2\n",
    "t-test:         cat/discrete        continuous\n",
    "ANOVA:          cat/discrete        continuous"
   ]
  },
  {
   "cell_type": "code",
   "execution_count": null,
   "metadata": {},
   "outputs": [],
   "source": [
    "                            var1                 var2                   Non-Parametric Test \n",
    "  compare    t-test:         cat/discrete        continuous          |   Mann Whitney           \n",
    "  means      ANOVA:          cat/discrete        continuous          |   Kruskall Wallis\n",
    "\n",
    "\n"
   ]
  },
  {
   "cell_type": "code",
   "execution_count": null,
   "metadata": {},
   "outputs": [],
   "source": []
  }
 ],
 "metadata": {
  "kernelspec": {
   "display_name": "Python 3.9.13 ('base')",
   "language": "python",
   "name": "python3"
  },
  "language_info": {
   "name": "python",
   "version": "3.9.13"
  },
  "orig_nbformat": 4,
  "vscode": {
   "interpreter": {
    "hash": "38cca0c38332a56087b24af0bc80247f4fced29cb4f7f437d91dc159adec9c4e"
   }
  }
 },
 "nbformat": 4,
 "nbformat_minor": 2
}
