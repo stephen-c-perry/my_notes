{
 "cells": [
  {
   "cell_type": "code",
   "execution_count": 6,
   "metadata": {},
   "outputs": [
    {
     "name": "stdout",
     "output_type": "stream",
     "text": [
      "Nice pair of glasses!\n"
     ]
    }
   ],
   "source": [
    "has_glasses = True\n",
    "\n",
    "if has_glasses:\n",
    "    print('Nice pair of glasses!')"
   ]
  },
  {
   "cell_type": "code",
   "execution_count": 7,
   "metadata": {},
   "outputs": [
    {
     "name": "stdout",
     "output_type": "stream",
     "text": [
      "Nice eyes\n"
     ]
    }
   ],
   "source": [
    "has_glasses = False\n",
    "\n",
    "if has_glasses:\n",
    "    print('Nice pair of glasses!')\n",
    "else:\n",
    "    print('Nice eyes')"
   ]
  },
  {
   "cell_type": "code",
   "execution_count": 18,
   "metadata": {},
   "outputs": [
    {
     "name": "stdout",
     "output_type": "stream",
     "text": [
      "That's about right.\n"
     ]
    }
   ],
   "source": [
    "lunch = 12\n",
    "\n",
    "if lunch < 10:\n",
    "    print('This never happens eating downtown')\n",
    "elif lunch < 20:\n",
    "    print('That\\'s about right.')\n",
    "else:\n",
    "    print('Are you sure it wasn\\'t dinner?')\n",
    "    "
   ]
  },
  {
   "cell_type": "code",
   "execution_count": 28,
   "metadata": {},
   "outputs": [],
   "source": [
    "eyewear = ['glasses', 'sunglasses', 'contacts', None]\n"
   ]
  },
  {
   "cell_type": "code",
   "execution_count": 19,
   "metadata": {},
   "outputs": [
    {
     "data": {
      "text/plain": [
       "['glasses', 'sunglasses', 'contacts', None]"
      ]
     },
     "execution_count": 19,
     "metadata": {},
     "output_type": "execute_result"
    }
   ],
   "source": [
    "eyewear"
   ]
  },
  {
   "cell_type": "code",
   "execution_count": 26,
   "metadata": {},
   "outputs": [
    {
     "name": "stdout",
     "output_type": "stream",
     "text": [
      "Smitty looks his best when he's wearing his glasses.\n",
      "Smitty looks his best when he's wearing his sunglasses.\n",
      "Smitty looks his best when he's wearing his contacts.\n"
     ]
    }
   ],
   "source": [
    "for item in eyewear:\n",
    "    print(f'Smitty looks his best when he\\'s wearing his {item}.')"
   ]
  },
  {
   "cell_type": "code",
   "execution_count": 27,
   "metadata": {},
   "outputs": [
    {
     "data": {
      "text/plain": [
       "NoneType"
      ]
     },
     "execution_count": 27,
     "metadata": {},
     "output_type": "execute_result"
    }
   ],
   "source": [
    "type(None)"
   ]
  },
  {
   "cell_type": "code",
   "execution_count": 30,
   "metadata": {},
   "outputs": [
    {
     "name": "stdout",
     "output_type": "stream",
     "text": [
      "Smitty looks his best when he's wearing his glasses.\n",
      "Smitty looks his best when he's wearing his sunglasses.\n",
      "Smitty looks his best when he's wearing his contacts.\n",
      "Smitty isn't wearing any eyewear.\n"
     ]
    }
   ],
   "source": [
    "for item in eyewear:\n",
    "    if item is None:\n",
    "        print('Smitty isn\\'t wearing any eyewear.')\n",
    "    else:\n",
    "        print(f'Smitty looks his best when he\\'s wearing his {item}.')"
   ]
  },
  {
   "cell_type": "code",
   "execution_count": 35,
   "metadata": {},
   "outputs": [
    {
     "name": "stdout",
     "output_type": "stream",
     "text": [
      "The world is safe today!\n",
      "The world is safe today!\n",
      "The world is safe today!\n",
      "The world is safe today!\n"
     ]
    }
   ],
   "source": [
    "i = 3\n",
    "while i < 7:\n",
    "    print('The world is safe today!')\n",
    "    i += 1"
   ]
  },
  {
   "cell_type": "code",
   "execution_count": 38,
   "metadata": {},
   "outputs": [
    {
     "name": "stdout",
     "output_type": "stream",
     "text": [
      "2\n",
      "4\n",
      "16\n",
      "256\n",
      "65536\n"
     ]
    }
   ],
   "source": [
    "i = 2\n",
    "while i < 257 or i > 4:\n",
    "    print(i)\n",
    "    if i > 1_000:\n",
    "        break\n",
    "    i = i ** 2"
   ]
  },
  {
   "cell_type": "code",
   "execution_count": 39,
   "metadata": {},
   "outputs": [
    {
     "name": "stdout",
     "output_type": "stream",
     "text": [
      "0\n",
      "1\n",
      "2\n",
      "3\n",
      "4\n",
      "5\n",
      "6\n",
      "7\n",
      "8\n",
      "9\n"
     ]
    }
   ],
   "source": [
    "for i in range(10):\n",
    "    print(i)"
   ]
  },
  {
   "cell_type": "code",
   "execution_count": 42,
   "metadata": {},
   "outputs": [
    {
     "name": "stdout",
     "output_type": "stream",
     "text": [
      "0\n",
      "1\n",
      "2\n",
      "3\n",
      "4\n",
      "5\n",
      "6\n",
      "7\n",
      "8\n",
      "9\n"
     ]
    }
   ],
   "source": [
    "for i in range(10):\n",
    "    print(i)"
   ]
  },
  {
   "cell_type": "code",
   "execution_count": 50,
   "metadata": {},
   "outputs": [
    {
     "name": "stdout",
     "output_type": "stream",
     "text": [
      "I refuse to count the number 3\n"
     ]
    },
    {
     "data": {
      "text/plain": [
       "4"
      ]
     },
     "execution_count": 50,
     "metadata": {},
     "output_type": "execute_result"
    }
   ],
   "source": [
    "odd_numbers_count = 0\n",
    "\n",
    "for i in range(10):\n",
    "    if i % 2 == 1:\n",
    "        if i == 3:\n",
    "            print('I refuse to count the number 3')\n",
    "            continue\n",
    "        odd_numbers_count += 1\n",
    "        \n",
    "odd_numbers_count\n",
    "\n",
    "#continue takes the loop all the way back to the next item in the loop and pretends as if the previous thing never happened"
   ]
  },
  {
   "cell_type": "code",
   "execution_count": 52,
   "metadata": {},
   "outputs": [
    {
     "name": "stdout",
     "output_type": "stream",
     "text": [
      "I refuse to count the number 3\n"
     ]
    },
    {
     "data": {
      "text/plain": [
       "1"
      ]
     },
     "execution_count": 52,
     "metadata": {},
     "output_type": "execute_result"
    }
   ],
   "source": [
    "# try it with break instead of continue\n",
    " \n",
    "odd_numbers_count = 0\n",
    "\n",
    "for i in range(10):\n",
    "    if i % 2 == 1:\n",
    "        if i == 3:\n",
    "            print('I refuse to count the number 3')\n",
    "            break\n",
    "        odd_numbers_count += 1\n",
    "        \n",
    "odd_numbers_count\n",
    "\n",
    "# it stops the loop"
   ]
  },
  {
   "cell_type": "code",
   "execution_count": 57,
   "metadata": {},
   "outputs": [
    {
     "name": "stdout",
     "output_type": "stream",
     "text": [
      "0\n",
      "1\n",
      "2\n",
      "3\n",
      "4\n"
     ]
    }
   ],
   "source": [
    "i = 0\n",
    "while i < 15:\n",
    "    print(i)\n",
    "    if i == 4:\n",
    "        break\n",
    "    i += 1 \n",
    "\n",
    "# without break it would print all the way to 15"
   ]
  },
  {
   "cell_type": "code",
   "execution_count": null,
   "metadata": {},
   "outputs": [],
   "source": []
  }
 ],
 "metadata": {
  "kernelspec": {
   "display_name": "Python 3.9.6 64-bit",
   "language": "python",
   "name": "python3"
  },
  "language_info": {
   "codemirror_mode": {
    "name": "ipython",
    "version": 3
   },
   "file_extension": ".py",
   "mimetype": "text/x-python",
   "name": "python",
   "nbconvert_exporter": "python",
   "pygments_lexer": "ipython3",
   "version": "3.9.6"
  },
  "orig_nbformat": 4,
  "vscode": {
   "interpreter": {
    "hash": "31f2aee4e71d21fbe5cf8b01ff0e069b9275f58929596ceb00d14d90e3e16cd6"
   }
  }
 },
 "nbformat": 4,
 "nbformat_minor": 2
}
